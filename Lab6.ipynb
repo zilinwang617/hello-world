{
 "cells": [
  {
   "cell_type": "code",
   "execution_count": null,
   "id": "7db72023-7ebc-4a72-9fff-5feeac8f4004",
   "metadata": {},
   "outputs": [],
   "source": [
    "print(\"Hello World\")"
   ]
  },
  {
   "cell_type": "code",
   "execution_count": null,
   "id": "2082adfe-6011-4fe8-a429-f4673a47b5b7",
   "metadata": {},
   "outputs": [],
   "source": [
    "# Ask the user for their name\n",
    "name = input(\"Enter your name: \")\n",
    "\n",
    "# Ask the user for their birth year and convert it to an integer\n",
    "birth_year = int(input(\"Enter your birth year: \"))\n",
    "\n",
    "# Ask the user for the current year and convert it to an integer\n",
    "current_year = int(input(\"Enter the current year: \"))\n",
    "\n",
    "# Calculate the age\n",
    "age = current_year - birth_year\n",
    "\n",
    "# Print the result\n",
    "print(f\"{name}, you are {age} years old.\")\n"
   ]
  },
  {
   "cell_type": "code",
   "execution_count": null,
   "id": "1c8b425a-eead-4f47-8fa8-ed0eb9982248",
   "metadata": {},
   "outputs": [],
   "source": []
  }
 ],
 "metadata": {
  "kernelspec": {
   "display_name": "Python 3 (ipykernel)",
   "language": "python",
   "name": "python3"
  },
  "language_info": {
   "codemirror_mode": {
    "name": "ipython",
    "version": 3
   },
   "file_extension": ".py",
   "mimetype": "text/x-python",
   "name": "python",
   "nbconvert_exporter": "python",
   "pygments_lexer": "ipython3",
   "version": "3.11.5"
  }
 },
 "nbformat": 4,
 "nbformat_minor": 5
}
